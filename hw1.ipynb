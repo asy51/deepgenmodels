{
 "cells": [
  {
   "cell_type": "markdown",
   "metadata": {},
   "source": [
    "# 1. Autoregressive Models\n",
    "a. Write out the chain rule for a distribution over $x_1, x_2,...,x_n$.\n",
    "\n",
    "$$ p(x_1) * p(x_2 | x_1) * ... * p(x_n | x_{n-1}, x_{n-2},...,x_1) $$\n",
    "\n",
    "b. Draw an example of a Masked Autoregressive Distribution Estimation (MADE) model and illustrate the key characteristic that qualify it as proper probability model."
   ]
  },
  {
   "cell_type": "markdown",
   "metadata": {},
   "source": [
    "# 2. KL-Divergence\n",
    "Let $\\mu:\\chi\\rightarrow\\mathbb{R}^k, \\sigma, \\chi\\rightarrow\\mathbb{R}^k$ and $q(z|x)=N(z;\\mu(x),\\textnormal{diag}(\\sigma^2(x)))$. Suppose that $p(z)=N(z;0,I)$, show that\n",
    "\n",
    "$$ D(q(z|x) || p(z)) = \\frac{1}{2}\\sum_i \\sigma_i^2(x)+\\mu(x)_i^2-log\\sigma_i^2(x)-1 $$"
   ]
  },
  {
   "cell_type": "markdown",
   "metadata": {},
   "source": [
    "# 3. Normalizing Flows\n",
    "Let $q_0$ be a probability distribution on $z$, and define $\\mathbf{z}_s=g_s(\\mathbf{z}_{t-1})$ where $g_s:z\\rightarrow z$ are invertible functions. Prove that the pushforward distribution on $\\mathbf{z}_t=g_t \\circ ... \\circ g_1(\\mathbf{z}_0)$ is given by $q_t$, where\n",
    "$$ \\log q_t(\\mathbf{z}_t)=log q_0(z_0)-\\sum_{s=1}^t\\log\\det\\frac{\\partial g_s(\\mathbf{z}_{s-1})}{\\partial\\mathbf{z}_{s-1}} $$\n",
    "Hint: consider using the inverse function theorem."
   ]
  },
  {
   "cell_type": "markdown",
   "metadata": {},
   "source": [
    "# "
   ]
  },
  {
   "cell_type": "code",
   "execution_count": 3,
   "metadata": {},
   "outputs": [],
   "source": [
    "import numpy as np"
   ]
  }
 ],
 "metadata": {
  "kernelspec": {
   "display_name": "venv_deepgenmodels",
   "language": "python",
   "name": "python3"
  },
  "language_info": {
   "codemirror_mode": {
    "name": "ipython",
    "version": 3
   },
   "file_extension": ".py",
   "mimetype": "text/x-python",
   "name": "python",
   "nbconvert_exporter": "python",
   "pygments_lexer": "ipython3",
   "version": "3.11.2"
  },
  "orig_nbformat": 4
 },
 "nbformat": 4,
 "nbformat_minor": 2
}
